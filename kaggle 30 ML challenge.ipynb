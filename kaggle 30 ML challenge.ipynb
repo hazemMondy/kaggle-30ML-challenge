{
 "cells": [
  {
   "cell_type": "code",
   "execution_count": 2,
   "metadata": {
    "_cell_guid": "b1076dfc-b9ad-4769-8c92-a6c4dae69d19",
    "_uuid": "8f2839f25d086af736a60e9eeb907d3b93b6e0e5",
    "execution": {
     "iopub.execute_input": "2021-08-31T16:15:31.163395Z",
     "iopub.status.busy": "2021-08-31T16:15:31.163031Z",
     "iopub.status.idle": "2021-08-31T16:15:31.171673Z",
     "shell.execute_reply": "2021-08-31T16:15:31.170560Z",
     "shell.execute_reply.started": "2021-08-31T16:15:31.163366Z"
    }
   },
   "outputs": [
    {
     "name": "stdout",
     "output_type": "stream",
     "text": [
      "/kaggle/input/30-days-of-ml/sample_submission.csv\n",
      "/kaggle/input/30-days-of-ml/train.csv\n",
      "/kaggle/input/30-days-of-ml/test.csv\n"
     ]
    }
   ],
   "source": [
    "# This Python 3 environment comes with many helpful analytics libraries installed\n",
    "# It is defined by the kaggle/python Docker image: https://github.com/kaggle/docker-python\n",
    "# For example, here's several helpful packages to load\n",
    "\n",
    "import numpy as np # linear algebra\n",
    "import pandas as pd # data processing, CSV file I/O (e.g. pd.read_csv)\n",
    "import matplotlib.pyplot as plt\n",
    "\n",
    "# Input data files are available in the read-only \"../input/\" directory\n",
    "# For example, running this (by clicking run or pressing Shift+Enter) will list all files under the input directory\n",
    "\n",
    "import os\n",
    "for dirname, _, filenames in os.walk('/kaggle/input'):\n",
    "    for filename in filenames:\n",
    "        print(os.path.join(dirname, filename))\n",
    "\n",
    "# You can write up to 20GB to the current directory (/kaggle/working/) that gets preserved as output when you create a version using \"Save & Run All\" \n",
    "# You can also write temporary files to /kaggle/temp/, but they won't be saved outside of the current session"
   ]
  },
  {
   "cell_type": "code",
   "execution_count": 3,
   "metadata": {
    "execution": {
     "iopub.execute_input": "2021-08-31T16:15:32.181517Z",
     "iopub.status.busy": "2021-08-31T16:15:32.181129Z",
     "iopub.status.idle": "2021-08-31T16:15:36.465806Z",
     "shell.execute_reply": "2021-08-31T16:15:36.464623Z",
     "shell.execute_reply.started": "2021-08-31T16:15:32.181487Z"
    }
   },
   "outputs": [],
   "source": [
    "train_data= pd.read_csv('/kaggle/input/30-days-of-ml/train.csv')\n",
    "test_data= pd.read_csv('/kaggle/input/30-days-of-ml/test.csv')\n"
   ]
  },
  {
   "cell_type": "code",
   "execution_count": 4,
   "metadata": {
    "execution": {
     "iopub.execute_input": "2021-08-31T13:32:53.577434Z",
     "iopub.status.busy": "2021-08-31T13:32:53.577091Z",
     "iopub.status.idle": "2021-08-31T13:32:53.596918Z",
     "shell.execute_reply": "2021-08-31T13:32:53.595809Z",
     "shell.execute_reply.started": "2021-08-31T13:32:53.577406Z"
    }
   },
   "outputs": [],
   "source": [
    "f=['cat1','cat3','cat5','cat8','cont0','cont2','cont3','cont4','cont5','cont7','cont8','cont9','cont10','cont11','cont12','cont13']\n",
    "test=test_data[f]"
   ]
  },
  {
   "cell_type": "code",
   "execution_count": 5,
   "metadata": {
    "execution": {
     "iopub.execute_input": "2021-08-31T13:33:03.825923Z",
     "iopub.status.busy": "2021-08-31T13:33:03.825476Z",
     "iopub.status.idle": "2021-08-31T13:33:03.833534Z",
     "shell.execute_reply": "2021-08-31T13:33:03.832605Z",
     "shell.execute_reply.started": "2021-08-31T13:33:03.825894Z"
    }
   },
   "outputs": [
    {
     "data": {
      "text/plain": [
       "Index(['id', 'cat0', 'cat1', 'cat2', 'cat3', 'cat4', 'cat5', 'cat6', 'cat7',\n",
       "       'cat8', 'cat9', 'cont0', 'cont1', 'cont2', 'cont3', 'cont4', 'cont5',\n",
       "       'cont6', 'cont7', 'cont8', 'cont9', 'cont10', 'cont11', 'cont12',\n",
       "       'cont13', 'target'],\n",
       "      dtype='object')"
      ]
     },
     "execution_count": 5,
     "metadata": {},
     "output_type": "execute_result"
    }
   ],
   "source": [
    "train_data.columns"
   ]
  },
  {
   "cell_type": "code",
   "execution_count": 6,
   "metadata": {
    "execution": {
     "iopub.execute_input": "2021-08-31T13:33:04.105481Z",
     "iopub.status.busy": "2021-08-31T13:33:04.105074Z",
     "iopub.status.idle": "2021-08-31T13:33:04.134272Z",
     "shell.execute_reply": "2021-08-31T13:33:04.133350Z",
     "shell.execute_reply.started": "2021-08-31T13:33:04.105445Z"
    }
   },
   "outputs": [
    {
     "data": {
      "text/html": [
       "<div>\n",
       "<style scoped>\n",
       "    .dataframe tbody tr th:only-of-type {\n",
       "        vertical-align: middle;\n",
       "    }\n",
       "\n",
       "    .dataframe tbody tr th {\n",
       "        vertical-align: top;\n",
       "    }\n",
       "\n",
       "    .dataframe thead th {\n",
       "        text-align: right;\n",
       "    }\n",
       "</style>\n",
       "<table border=\"1\" class=\"dataframe\">\n",
       "  <thead>\n",
       "    <tr style=\"text-align: right;\">\n",
       "      <th></th>\n",
       "      <th>id</th>\n",
       "      <th>cat0</th>\n",
       "      <th>cat1</th>\n",
       "      <th>cat2</th>\n",
       "      <th>cat3</th>\n",
       "      <th>cat4</th>\n",
       "      <th>cat5</th>\n",
       "      <th>cat6</th>\n",
       "      <th>cat7</th>\n",
       "      <th>cat8</th>\n",
       "      <th>...</th>\n",
       "      <th>cont5</th>\n",
       "      <th>cont6</th>\n",
       "      <th>cont7</th>\n",
       "      <th>cont8</th>\n",
       "      <th>cont9</th>\n",
       "      <th>cont10</th>\n",
       "      <th>cont11</th>\n",
       "      <th>cont12</th>\n",
       "      <th>cont13</th>\n",
       "      <th>target</th>\n",
       "    </tr>\n",
       "  </thead>\n",
       "  <tbody>\n",
       "    <tr>\n",
       "      <th>0</th>\n",
       "      <td>1</td>\n",
       "      <td>B</td>\n",
       "      <td>B</td>\n",
       "      <td>B</td>\n",
       "      <td>C</td>\n",
       "      <td>B</td>\n",
       "      <td>B</td>\n",
       "      <td>A</td>\n",
       "      <td>E</td>\n",
       "      <td>C</td>\n",
       "      <td>...</td>\n",
       "      <td>0.400361</td>\n",
       "      <td>0.160266</td>\n",
       "      <td>0.310921</td>\n",
       "      <td>0.389470</td>\n",
       "      <td>0.267559</td>\n",
       "      <td>0.237281</td>\n",
       "      <td>0.377873</td>\n",
       "      <td>0.322401</td>\n",
       "      <td>0.869850</td>\n",
       "      <td>8.113634</td>\n",
       "    </tr>\n",
       "    <tr>\n",
       "      <th>1</th>\n",
       "      <td>2</td>\n",
       "      <td>B</td>\n",
       "      <td>B</td>\n",
       "      <td>A</td>\n",
       "      <td>A</td>\n",
       "      <td>B</td>\n",
       "      <td>D</td>\n",
       "      <td>A</td>\n",
       "      <td>F</td>\n",
       "      <td>A</td>\n",
       "      <td>...</td>\n",
       "      <td>0.533087</td>\n",
       "      <td>0.558922</td>\n",
       "      <td>0.516294</td>\n",
       "      <td>0.594928</td>\n",
       "      <td>0.341439</td>\n",
       "      <td>0.906013</td>\n",
       "      <td>0.921701</td>\n",
       "      <td>0.261975</td>\n",
       "      <td>0.465083</td>\n",
       "      <td>8.481233</td>\n",
       "    </tr>\n",
       "    <tr>\n",
       "      <th>2</th>\n",
       "      <td>3</td>\n",
       "      <td>A</td>\n",
       "      <td>A</td>\n",
       "      <td>A</td>\n",
       "      <td>C</td>\n",
       "      <td>B</td>\n",
       "      <td>D</td>\n",
       "      <td>A</td>\n",
       "      <td>D</td>\n",
       "      <td>A</td>\n",
       "      <td>...</td>\n",
       "      <td>0.650609</td>\n",
       "      <td>0.375348</td>\n",
       "      <td>0.902567</td>\n",
       "      <td>0.555205</td>\n",
       "      <td>0.843531</td>\n",
       "      <td>0.748809</td>\n",
       "      <td>0.620126</td>\n",
       "      <td>0.541474</td>\n",
       "      <td>0.763846</td>\n",
       "      <td>8.364351</td>\n",
       "    </tr>\n",
       "    <tr>\n",
       "      <th>3</th>\n",
       "      <td>4</td>\n",
       "      <td>B</td>\n",
       "      <td>B</td>\n",
       "      <td>A</td>\n",
       "      <td>C</td>\n",
       "      <td>B</td>\n",
       "      <td>D</td>\n",
       "      <td>A</td>\n",
       "      <td>E</td>\n",
       "      <td>C</td>\n",
       "      <td>...</td>\n",
       "      <td>0.668980</td>\n",
       "      <td>0.239061</td>\n",
       "      <td>0.732948</td>\n",
       "      <td>0.679618</td>\n",
       "      <td>0.574844</td>\n",
       "      <td>0.346010</td>\n",
       "      <td>0.714610</td>\n",
       "      <td>0.540150</td>\n",
       "      <td>0.280682</td>\n",
       "      <td>8.049253</td>\n",
       "    </tr>\n",
       "    <tr>\n",
       "      <th>4</th>\n",
       "      <td>6</td>\n",
       "      <td>A</td>\n",
       "      <td>A</td>\n",
       "      <td>A</td>\n",
       "      <td>C</td>\n",
       "      <td>B</td>\n",
       "      <td>D</td>\n",
       "      <td>A</td>\n",
       "      <td>E</td>\n",
       "      <td>A</td>\n",
       "      <td>...</td>\n",
       "      <td>0.686964</td>\n",
       "      <td>0.420667</td>\n",
       "      <td>0.648182</td>\n",
       "      <td>0.684501</td>\n",
       "      <td>0.956692</td>\n",
       "      <td>1.000773</td>\n",
       "      <td>0.776742</td>\n",
       "      <td>0.625849</td>\n",
       "      <td>0.250823</td>\n",
       "      <td>7.972260</td>\n",
       "    </tr>\n",
       "  </tbody>\n",
       "</table>\n",
       "<p>5 rows × 26 columns</p>\n",
       "</div>"
      ],
      "text/plain": [
       "   id cat0 cat1 cat2 cat3 cat4 cat5 cat6 cat7 cat8  ...     cont5     cont6  \\\n",
       "0   1    B    B    B    C    B    B    A    E    C  ...  0.400361  0.160266   \n",
       "1   2    B    B    A    A    B    D    A    F    A  ...  0.533087  0.558922   \n",
       "2   3    A    A    A    C    B    D    A    D    A  ...  0.650609  0.375348   \n",
       "3   4    B    B    A    C    B    D    A    E    C  ...  0.668980  0.239061   \n",
       "4   6    A    A    A    C    B    D    A    E    A  ...  0.686964  0.420667   \n",
       "\n",
       "      cont7     cont8     cont9    cont10    cont11    cont12    cont13  \\\n",
       "0  0.310921  0.389470  0.267559  0.237281  0.377873  0.322401  0.869850   \n",
       "1  0.516294  0.594928  0.341439  0.906013  0.921701  0.261975  0.465083   \n",
       "2  0.902567  0.555205  0.843531  0.748809  0.620126  0.541474  0.763846   \n",
       "3  0.732948  0.679618  0.574844  0.346010  0.714610  0.540150  0.280682   \n",
       "4  0.648182  0.684501  0.956692  1.000773  0.776742  0.625849  0.250823   \n",
       "\n",
       "     target  \n",
       "0  8.113634  \n",
       "1  8.481233  \n",
       "2  8.364351  \n",
       "3  8.049253  \n",
       "4  7.972260  \n",
       "\n",
       "[5 rows x 26 columns]"
      ]
     },
     "execution_count": 6,
     "metadata": {},
     "output_type": "execute_result"
    }
   ],
   "source": [
    "train_data.head(5)"
   ]
  },
  {
   "cell_type": "code",
   "execution_count": 7,
   "metadata": {
    "execution": {
     "iopub.execute_input": "2021-08-31T13:33:04.568003Z",
     "iopub.status.busy": "2021-08-31T13:33:04.567647Z",
     "iopub.status.idle": "2021-08-31T13:33:04.713858Z",
     "shell.execute_reply": "2021-08-31T13:33:04.712903Z",
     "shell.execute_reply.started": "2021-08-31T13:33:04.567955Z"
    }
   },
   "outputs": [
    {
     "name": "stdout",
     "output_type": "stream",
     "text": [
      "<class 'pandas.core.frame.DataFrame'>\n",
      "RangeIndex: 300000 entries, 0 to 299999\n",
      "Data columns (total 26 columns):\n",
      " #   Column  Non-Null Count   Dtype  \n",
      "---  ------  --------------   -----  \n",
      " 0   id      300000 non-null  int64  \n",
      " 1   cat0    300000 non-null  object \n",
      " 2   cat1    300000 non-null  object \n",
      " 3   cat2    300000 non-null  object \n",
      " 4   cat3    300000 non-null  object \n",
      " 5   cat4    300000 non-null  object \n",
      " 6   cat5    300000 non-null  object \n",
      " 7   cat6    300000 non-null  object \n",
      " 8   cat7    300000 non-null  object \n",
      " 9   cat8    300000 non-null  object \n",
      " 10  cat9    300000 non-null  object \n",
      " 11  cont0   300000 non-null  float64\n",
      " 12  cont1   300000 non-null  float64\n",
      " 13  cont2   300000 non-null  float64\n",
      " 14  cont3   300000 non-null  float64\n",
      " 15  cont4   300000 non-null  float64\n",
      " 16  cont5   300000 non-null  float64\n",
      " 17  cont6   300000 non-null  float64\n",
      " 18  cont7   300000 non-null  float64\n",
      " 19  cont8   300000 non-null  float64\n",
      " 20  cont9   300000 non-null  float64\n",
      " 21  cont10  300000 non-null  float64\n",
      " 22  cont11  300000 non-null  float64\n",
      " 23  cont12  300000 non-null  float64\n",
      " 24  cont13  300000 non-null  float64\n",
      " 25  target  300000 non-null  float64\n",
      "dtypes: float64(15), int64(1), object(10)\n",
      "memory usage: 59.5+ MB\n"
     ]
    }
   ],
   "source": [
    "train_data.info()"
   ]
  },
  {
   "cell_type": "code",
   "execution_count": 8,
   "metadata": {
    "execution": {
     "iopub.execute_input": "2021-08-31T13:33:05.130915Z",
     "iopub.status.busy": "2021-08-31T13:33:05.130078Z",
     "iopub.status.idle": "2021-08-31T13:33:05.382487Z",
     "shell.execute_reply": "2021-08-31T13:33:05.381471Z",
     "shell.execute_reply.started": "2021-08-31T13:33:05.130868Z"
    }
   },
   "outputs": [
    {
     "data": {
      "text/html": [
       "<div>\n",
       "<style scoped>\n",
       "    .dataframe tbody tr th:only-of-type {\n",
       "        vertical-align: middle;\n",
       "    }\n",
       "\n",
       "    .dataframe tbody tr th {\n",
       "        vertical-align: top;\n",
       "    }\n",
       "\n",
       "    .dataframe thead th {\n",
       "        text-align: right;\n",
       "    }\n",
       "</style>\n",
       "<table border=\"1\" class=\"dataframe\">\n",
       "  <thead>\n",
       "    <tr style=\"text-align: right;\">\n",
       "      <th></th>\n",
       "      <th>id</th>\n",
       "      <th>cont0</th>\n",
       "      <th>cont1</th>\n",
       "      <th>cont2</th>\n",
       "      <th>cont3</th>\n",
       "      <th>cont4</th>\n",
       "      <th>cont5</th>\n",
       "      <th>cont6</th>\n",
       "      <th>cont7</th>\n",
       "      <th>cont8</th>\n",
       "      <th>cont9</th>\n",
       "      <th>cont10</th>\n",
       "      <th>cont11</th>\n",
       "      <th>cont12</th>\n",
       "      <th>cont13</th>\n",
       "      <th>target</th>\n",
       "    </tr>\n",
       "  </thead>\n",
       "  <tbody>\n",
       "    <tr>\n",
       "      <th>count</th>\n",
       "      <td>300000.000000</td>\n",
       "      <td>300000.000000</td>\n",
       "      <td>300000.000000</td>\n",
       "      <td>300000.000000</td>\n",
       "      <td>300000.000000</td>\n",
       "      <td>300000.000000</td>\n",
       "      <td>300000.000000</td>\n",
       "      <td>300000.000000</td>\n",
       "      <td>300000.000000</td>\n",
       "      <td>300000.000000</td>\n",
       "      <td>300000.000000</td>\n",
       "      <td>300000.000000</td>\n",
       "      <td>300000.000000</td>\n",
       "      <td>300000.000000</td>\n",
       "      <td>300000.000000</td>\n",
       "      <td>300000.000000</td>\n",
       "    </tr>\n",
       "    <tr>\n",
       "      <th>mean</th>\n",
       "      <td>250018.576947</td>\n",
       "      <td>0.527335</td>\n",
       "      <td>0.460926</td>\n",
       "      <td>0.490498</td>\n",
       "      <td>0.496689</td>\n",
       "      <td>0.491654</td>\n",
       "      <td>0.510526</td>\n",
       "      <td>0.467476</td>\n",
       "      <td>0.537119</td>\n",
       "      <td>0.498456</td>\n",
       "      <td>0.474872</td>\n",
       "      <td>0.474492</td>\n",
       "      <td>0.473216</td>\n",
       "      <td>0.494561</td>\n",
       "      <td>0.508273</td>\n",
       "      <td>8.241979</td>\n",
       "    </tr>\n",
       "    <tr>\n",
       "      <th>std</th>\n",
       "      <td>144450.150010</td>\n",
       "      <td>0.230599</td>\n",
       "      <td>0.214003</td>\n",
       "      <td>0.253346</td>\n",
       "      <td>0.219199</td>\n",
       "      <td>0.240074</td>\n",
       "      <td>0.228232</td>\n",
       "      <td>0.210331</td>\n",
       "      <td>0.218140</td>\n",
       "      <td>0.239920</td>\n",
       "      <td>0.218007</td>\n",
       "      <td>0.255949</td>\n",
       "      <td>0.222022</td>\n",
       "      <td>0.247292</td>\n",
       "      <td>0.222950</td>\n",
       "      <td>0.746555</td>\n",
       "    </tr>\n",
       "    <tr>\n",
       "      <th>min</th>\n",
       "      <td>1.000000</td>\n",
       "      <td>-0.118039</td>\n",
       "      <td>-0.069309</td>\n",
       "      <td>-0.056104</td>\n",
       "      <td>0.130676</td>\n",
       "      <td>0.255908</td>\n",
       "      <td>0.045915</td>\n",
       "      <td>-0.224689</td>\n",
       "      <td>0.203763</td>\n",
       "      <td>-0.260275</td>\n",
       "      <td>0.117896</td>\n",
       "      <td>0.048732</td>\n",
       "      <td>0.052608</td>\n",
       "      <td>-0.074208</td>\n",
       "      <td>0.151050</td>\n",
       "      <td>0.140329</td>\n",
       "    </tr>\n",
       "    <tr>\n",
       "      <th>25%</th>\n",
       "      <td>124772.500000</td>\n",
       "      <td>0.405965</td>\n",
       "      <td>0.310494</td>\n",
       "      <td>0.300604</td>\n",
       "      <td>0.329783</td>\n",
       "      <td>0.284188</td>\n",
       "      <td>0.354141</td>\n",
       "      <td>0.342873</td>\n",
       "      <td>0.355825</td>\n",
       "      <td>0.332486</td>\n",
       "      <td>0.306874</td>\n",
       "      <td>0.276017</td>\n",
       "      <td>0.308151</td>\n",
       "      <td>0.289074</td>\n",
       "      <td>0.300669</td>\n",
       "      <td>7.742071</td>\n",
       "    </tr>\n",
       "    <tr>\n",
       "      <th>50%</th>\n",
       "      <td>250002.500000</td>\n",
       "      <td>0.497053</td>\n",
       "      <td>0.427903</td>\n",
       "      <td>0.502462</td>\n",
       "      <td>0.465026</td>\n",
       "      <td>0.390470</td>\n",
       "      <td>0.488865</td>\n",
       "      <td>0.429383</td>\n",
       "      <td>0.504661</td>\n",
       "      <td>0.439151</td>\n",
       "      <td>0.434620</td>\n",
       "      <td>0.459975</td>\n",
       "      <td>0.433812</td>\n",
       "      <td>0.422887</td>\n",
       "      <td>0.472400</td>\n",
       "      <td>8.191373</td>\n",
       "    </tr>\n",
       "    <tr>\n",
       "      <th>75%</th>\n",
       "      <td>375226.500000</td>\n",
       "      <td>0.668060</td>\n",
       "      <td>0.615113</td>\n",
       "      <td>0.647512</td>\n",
       "      <td>0.664451</td>\n",
       "      <td>0.696599</td>\n",
       "      <td>0.669625</td>\n",
       "      <td>0.573383</td>\n",
       "      <td>0.703441</td>\n",
       "      <td>0.606056</td>\n",
       "      <td>0.614333</td>\n",
       "      <td>0.691579</td>\n",
       "      <td>0.642057</td>\n",
       "      <td>0.714502</td>\n",
       "      <td>0.758447</td>\n",
       "      <td>8.728634</td>\n",
       "    </tr>\n",
       "    <tr>\n",
       "      <th>max</th>\n",
       "      <td>499999.000000</td>\n",
       "      <td>1.058443</td>\n",
       "      <td>0.887253</td>\n",
       "      <td>1.034704</td>\n",
       "      <td>1.039560</td>\n",
       "      <td>1.055424</td>\n",
       "      <td>1.067649</td>\n",
       "      <td>1.111552</td>\n",
       "      <td>1.032837</td>\n",
       "      <td>1.040229</td>\n",
       "      <td>0.982922</td>\n",
       "      <td>1.055960</td>\n",
       "      <td>1.071444</td>\n",
       "      <td>0.975035</td>\n",
       "      <td>0.905992</td>\n",
       "      <td>10.411992</td>\n",
       "    </tr>\n",
       "  </tbody>\n",
       "</table>\n",
       "</div>"
      ],
      "text/plain": [
       "                  id          cont0          cont1          cont2  \\\n",
       "count  300000.000000  300000.000000  300000.000000  300000.000000   \n",
       "mean   250018.576947       0.527335       0.460926       0.490498   \n",
       "std    144450.150010       0.230599       0.214003       0.253346   \n",
       "min         1.000000      -0.118039      -0.069309      -0.056104   \n",
       "25%    124772.500000       0.405965       0.310494       0.300604   \n",
       "50%    250002.500000       0.497053       0.427903       0.502462   \n",
       "75%    375226.500000       0.668060       0.615113       0.647512   \n",
       "max    499999.000000       1.058443       0.887253       1.034704   \n",
       "\n",
       "               cont3          cont4          cont5          cont6  \\\n",
       "count  300000.000000  300000.000000  300000.000000  300000.000000   \n",
       "mean        0.496689       0.491654       0.510526       0.467476   \n",
       "std         0.219199       0.240074       0.228232       0.210331   \n",
       "min         0.130676       0.255908       0.045915      -0.224689   \n",
       "25%         0.329783       0.284188       0.354141       0.342873   \n",
       "50%         0.465026       0.390470       0.488865       0.429383   \n",
       "75%         0.664451       0.696599       0.669625       0.573383   \n",
       "max         1.039560       1.055424       1.067649       1.111552   \n",
       "\n",
       "               cont7          cont8          cont9         cont10  \\\n",
       "count  300000.000000  300000.000000  300000.000000  300000.000000   \n",
       "mean        0.537119       0.498456       0.474872       0.474492   \n",
       "std         0.218140       0.239920       0.218007       0.255949   \n",
       "min         0.203763      -0.260275       0.117896       0.048732   \n",
       "25%         0.355825       0.332486       0.306874       0.276017   \n",
       "50%         0.504661       0.439151       0.434620       0.459975   \n",
       "75%         0.703441       0.606056       0.614333       0.691579   \n",
       "max         1.032837       1.040229       0.982922       1.055960   \n",
       "\n",
       "              cont11         cont12         cont13         target  \n",
       "count  300000.000000  300000.000000  300000.000000  300000.000000  \n",
       "mean        0.473216       0.494561       0.508273       8.241979  \n",
       "std         0.222022       0.247292       0.222950       0.746555  \n",
       "min         0.052608      -0.074208       0.151050       0.140329  \n",
       "25%         0.308151       0.289074       0.300669       7.742071  \n",
       "50%         0.433812       0.422887       0.472400       8.191373  \n",
       "75%         0.642057       0.714502       0.758447       8.728634  \n",
       "max         1.071444       0.975035       0.905992      10.411992  "
      ]
     },
     "execution_count": 8,
     "metadata": {},
     "output_type": "execute_result"
    }
   ],
   "source": [
    "train_data.describe()"
   ]
  },
  {
   "cell_type": "code",
   "execution_count": 9,
   "metadata": {
    "execution": {
     "iopub.execute_input": "2021-08-31T13:33:06.377512Z",
     "iopub.status.busy": "2021-08-31T13:33:06.376969Z",
     "iopub.status.idle": "2021-08-31T13:33:06.431547Z",
     "shell.execute_reply": "2021-08-31T13:33:06.430760Z",
     "shell.execute_reply.started": "2021-08-31T13:33:06.377457Z"
    }
   },
   "outputs": [],
   "source": [
    "# cat data\n",
    "df_cat=train_data[[ 'cat0', 'cat1', 'cat2', 'cat3', 'cat4', 'cat5', 'cat6', 'cat7',\n",
    "       'cat8', 'cat9']]\n",
    "\n",
    "# continous data\n",
    "df_cont=train_data[['cont0', 'cont1', 'cont2', 'cont3', 'cont4', 'cont5',\n",
    "       'cont6', 'cont7', 'cont8', 'cont9', 'cont10', 'cont11', 'cont12',\n",
    "       'cont13']]"
   ]
  },
  {
   "cell_type": "code",
   "execution_count": 10,
   "metadata": {
    "execution": {
     "iopub.execute_input": "2021-08-31T13:33:07.285960Z",
     "iopub.status.busy": "2021-08-31T13:33:07.285372Z",
     "iopub.status.idle": "2021-08-31T13:33:13.514616Z",
     "shell.execute_reply": "2021-08-31T13:33:13.513717Z",
     "shell.execute_reply.started": "2021-08-31T13:33:07.285905Z"
    }
   },
   "outputs": [
    {
     "data": {
      "image/png": "[encoded data removed]",
      "text/plain": [
       "<Figure size 360x360 with 1 Axes>"
      ]
     },
     "metadata": {
      "needs_background": "light"
     },
     "output_type": "display_data"
    },
    {
     "data": {
      "image/png": "[encoded data removed]",
      "text/plain": [
       "<Figure size 360x360 with 1 Axes>"
      ]
     },
     "metadata": {
      "needs_background": "light"
     },
     "output_type": "display_data"
    },
    {
     "data": {
      "image/png": "[encoded data removed]",
      "text/plain": [
       "<Figure size 360x360 with 1 Axes>"
      ]
     },
     "metadata": {
      "needs_background": "light"
     },
     "output_type": "display_data"
    },
    {
     "data": {
      "image/png": "[encoded data removed]",
      "text/plain": [
       "<Figure size 360x360 with 1 Axes>"
      ]
     },
     "metadata": {
      "needs_background": "light"
     },
     "output_type": "display_data"
    },
    {
     "data": {
      "image/png": "[encoded data removed]",
      "text/plain": [
       "<Figure size 360x360 with 1 Axes>"
      ]
     },
     "metadata": {
      "needs_background": "light"
     },
     "output_type": "display_data"
    },
    {
     "data": {
      "image/png": "[encoded data removed]",
      "text/plain": [
       "<Figure size 360x360 with 1 Axes>"
      ]
     },
     "metadata": {
      "needs_background": "light"
     },
     "output_type": "display_data"
    },
    {
     "data": {
      "image/png": "[encoded data removed]",
      "text/plain": [
       "<Figure size 360x360 with 1 Axes>"
      ]
     },
     "metadata": {
      "needs_background": "light"
     },
     "output_type": "display_data"
    },
    {
     "data": {
      "image/png": "[encoded data removed]",
      "text/plain": [
       "<Figure size 360x360 with 1 Axes>"
      ]
     },
     "metadata": {
      "needs_background": "light"
     },
     "output_type": "display_data"
    },
    {
     "data": {
      "image/png": "[encoded data removed]",
      "text/plain": [
       "<Figure size 360x360 with 1 Axes>"
      ]
     },
     "metadata": {
      "needs_background": "light"
     },
     "output_type": "display_data"
    },
    {
     "data": {
      "image/png": "[encoded data removed]",
      "text/plain": [
       "<Figure size 360x360 with 1 Axes>"
      ]
     },
     "metadata": {
      "needs_background": "light"
     },
     "output_type": "display_data"
    }
   ],
   "source": [
    "import seaborn as sns\n",
    "for i in df_cat.columns:\n",
    "    sns.catplot(x=i,data = df_cat, kind='count').set(title=i)\n",
    "    plt.show()"
   ]
  },
  {
   "cell_type": "code",
   "execution_count": 11,
   "metadata": {
    "execution": {
     "iopub.execute_input": "2021-08-31T13:33:13.516189Z",
     "iopub.status.busy": "2021-08-31T13:33:13.515917Z",
     "iopub.status.idle": "2021-08-31T13:33:13.521302Z",
     "shell.execute_reply": "2021-08-31T13:33:13.520393Z",
     "shell.execute_reply.started": "2021-08-31T13:33:13.516164Z"
    }
   },
   "outputs": [
    {
     "data": {
      "text/plain": [
       "'0 1 3 5 8 9'"
      ]
     },
     "execution_count": 11,
     "metadata": {},
     "output_type": "execute_result"
    }
   ],
   "source": [
    "\" cat 4 6 7  has no effect \"\n",
    "\" cat 2 alitle \"\n",
    "\"0 1 3 5 8 9\""
   ]
  },
  {
   "cell_type": "code",
   "execution_count": 12,
   "metadata": {
    "execution": {
     "iopub.execute_input": "2021-08-31T13:33:18.161539Z",
     "iopub.status.busy": "2021-08-31T13:33:18.160968Z",
     "iopub.status.idle": "2021-08-31T13:33:20.008247Z",
     "shell.execute_reply": "2021-08-31T13:33:20.007269Z",
     "shell.execute_reply.started": "2021-08-31T13:33:18.161498Z"
    }
   },
   "outputs": [
    {
     "data": {
      "image/png": "[encoded data removed]",
      "text/plain": [
       "<Figure size 432x288 with 1 Axes>"
      ]
     },
     "metadata": {
      "needs_background": "light"
     },
     "output_type": "display_data"
    },
    {
     "data": {
      "image/png": "[encoded data removed]",
      "text/plain": [
       "<Figure size 432x288 with 1 Axes>"
      ]
     },
     "metadata": {
      "needs_background": "light"
     },
     "output_type": "display_data"
    },
    {
     "data": {
      "image/png": "[encoded data removed]",
      "text/plain": [
       "<Figure size 432x288 with 1 Axes>"
      ]
     },
     "metadata": {
      "needs_background": "light"
     },
     "output_type": "display_data"
    },
    {
     "data": {
      "image/png": "[encoded data removed]",
      "text/plain": [
       "<Figure size 432x288 with 1 Axes>"
      ]
     },
     "metadata": {
      "needs_background": "light"
     },
     "output_type": "display_data"
    },
    {
     "data": {
      "image/png": "[encoded data removed]",
      "text/plain": [
       "<Figure size 432x288 with 1 Axes>"
      ]
     },
     "metadata": {
      "needs_background": "light"
     },
     "output_type": "display_data"
    },
    {
     "data": {
      "image/png": "[encoded data removed]",
      "text/plain": [
       "<Figure size 432x288 with 1 Axes>"
      ]
     },
     "metadata": {
      "needs_background": "light"
     },
     "output_type": "display_data"
    },
    {
     "data": {
      "image/png": "[encoded data removed]",
      "text/plain": [
       "<Figure size 432x288 with 1 Axes>"
      ]
     },
     "metadata": {
      "needs_background": "light"
     },
     "output_type": "display_data"
    },
    {
     "data": {
      "image/png": "[encoded data removed]",
      "text/plain": [
       "<Figure size 432x288 with 1 Axes>"
      ]
     },
     "metadata": {
      "needs_background": "light"
     },
     "output_type": "display_data"
    },
    {
     "data": {
      "image/png": "[encoded data removed]",
      "text/plain": [
       "<Figure size 432x288 with 1 Axes>"
      ]
     },
     "metadata": {
      "needs_background": "light"
     },
     "output_type": "display_data"
    },
    {
     "data": {
      "image/png": "[encoded data removed]",
      "text/plain": [
       "<Figure size 432x288 with 1 Axes>"
      ]
     },
     "metadata": {
      "needs_background": "light"
     },
     "output_type": "display_data"
    },
    {
     "data": {
      "image/png": "[encoded data removed]",
      "text/plain": [
       "<Figure size 432x288 with 1 Axes>"
      ]
     },
     "metadata": {
      "needs_background": "light"
     },
     "output_type": "display_data"
    },
    {
     "data": {
      "image/png": "[encoded data removed]",
      "text/plain": [
       "<Figure size 432x288 with 1 Axes>"
      ]
     },
     "metadata": {
      "needs_background": "light"
     },
     "output_type": "display_data"
    },
    {
     "data": {
      "image/png": "[encoded data removed]",
      "text/plain": [
       "<Figure size 432x288 with 1 Axes>"
      ]
     },
     "metadata": {
      "needs_background": "light"
     },
     "output_type": "display_data"
    },
    {
     "data": {
      "image/png": "[encoded data removed]",
      "text/plain": [
       "<Figure size 432x288 with 1 Axes>"
      ]
     },
     "metadata": {
      "needs_background": "light"
     },
     "output_type": "display_data"
    }
   ],
   "source": [
    "for i in df_cont.columns:\n",
    "    plt.hist(df_cont[i])\n",
    "    plt.title(i)\n",
    "    plt.show()"
   ]
  },
  {
   "cell_type": "code",
   "execution_count": 31,
   "metadata": {
    "execution": {
     "iopub.execute_input": "2021-08-31T13:40:35.244448Z",
     "iopub.status.busy": "2021-08-31T13:40:35.244085Z",
     "iopub.status.idle": "2021-08-31T13:40:35.250460Z",
     "shell.execute_reply": "2021-08-31T13:40:35.249289Z",
     "shell.execute_reply.started": "2021-08-31T13:40:35.244414Z"
    }
   },
   "outputs": [
    {
     "data": {
      "text/plain": [
       "' 0 1 2 3 5 6 7 8 9 10 11 12 13'"
      ]
     },
     "execution_count": 31,
     "metadata": {},
     "output_type": "execute_result"
    }
   ],
   "source": [
    "\"4 has no effect\"\n",
    "\" 0 1 2 3 5 6 7 8 9 10 11 12 13\""
   ]
  },
  {
   "cell_type": "code",
   "execution_count": 6,
   "metadata": {
    "execution": {
     "iopub.execute_input": "2021-08-31T16:16:03.503683Z",
     "iopub.status.busy": "2021-08-31T16:16:03.503176Z",
     "iopub.status.idle": "2021-08-31T16:16:04.525911Z",
     "shell.execute_reply": "2021-08-31T16:16:04.524901Z",
     "shell.execute_reply.started": "2021-08-31T16:16:03.503652Z"
    }
   },
   "outputs": [],
   "source": [
    "from sklearn.preprocessing import LabelEncoder\n",
    "\n",
    "# Instantiate LabelEncoder\n",
    "lebl = LabelEncoder()\n",
    "\n",
    "# Iterate over all the values of each column and extract their dtypes\n",
    "for col in train_data.columns.to_numpy():\n",
    "    # Compare if the dtype is object\n",
    "    if train_data[col].dtype=='object':\n",
    "    # Use LabelEncoder to do the numeric transformation\n",
    "        train_data[col]=lebl.fit_transform(train_data[col])"
   ]
  },
  {
   "cell_type": "code",
   "execution_count": 4,
   "metadata": {
    "execution": {
     "iopub.execute_input": "2021-08-31T16:15:43.436919Z",
     "iopub.status.busy": "2021-08-31T16:15:43.436535Z",
     "iopub.status.idle": "2021-08-31T16:15:44.771145Z",
     "shell.execute_reply": "2021-08-31T16:15:44.769933Z",
     "shell.execute_reply.started": "2021-08-31T16:15:43.436886Z"
    }
   },
   "outputs": [],
   "source": [
    "from sklearn.model_selection import train_test_split\n",
    "from xgboost import XGBRegressor\n",
    "from sklearn.metrics import mean_absolute_error\n",
    "\n",
    "\n",
    "f=['cat0', 'cat1',  'cat5', 'cat8', 'cat9', 'cont0', \n",
    "   'cont1', 'cont2', 'cont3',  'cont5',\n",
    "       'cont6', 'cont7', 'cont8', 'cont9', 'cont10', 'cont11', 'cont12',\n",
    "       'cont13']\n",
    "X_train, X_test, y_train, y_test  =train_test_split(train_data[f],train_data['target'], test_size=0.33,random_state=42)"
   ]
  },
  {
   "cell_type": "code",
   "execution_count": 18,
   "metadata": {
    "execution": {
     "iopub.execute_input": "2021-08-31T13:33:58.649779Z",
     "iopub.status.busy": "2021-08-31T13:33:58.649314Z",
     "iopub.status.idle": "2021-08-31T13:34:06.827728Z",
     "shell.execute_reply": "2021-08-31T13:34:06.826859Z",
     "shell.execute_reply.started": "2021-08-31T13:33:58.649750Z"
    }
   },
   "outputs": [
    {
     "data": {
      "text/plain": [
       "DecisionTreeRegressor(random_state=1)"
      ]
     },
     "execution_count": 18,
     "metadata": {},
     "output_type": "execute_result"
    }
   ],
   "source": [
    "from sklearn.tree import DecisionTreeRegressor\n",
    "\n",
    "# Define model. Specify a number for random_state to ensure same results each run\n",
    "model = DecisionTreeRegressor(random_state=1)\n",
    "\n",
    "# Fit model\n",
    "model.fit(X_train, y_train)"
   ]
  },
  {
   "cell_type": "code",
   "execution_count": 20,
   "metadata": {
    "execution": {
     "iopub.execute_input": "2021-08-31T13:34:37.515997Z",
     "iopub.status.busy": "2021-08-31T13:34:37.515661Z",
     "iopub.status.idle": "2021-08-31T13:34:37.601488Z",
     "shell.execute_reply": "2021-08-31T13:34:37.600523Z",
     "shell.execute_reply.started": "2021-08-31T13:34:37.515957Z"
    }
   },
   "outputs": [
    {
     "name": "stdout",
     "output_type": "stream",
     "text": [
      "Mean Absolute Error: 0.8384291068241917\n"
     ]
    }
   ],
   "source": [
    "predictions = model.predict(X_test)\n",
    "print(\"Mean Absolute Error: \" + str(mean_absolute_error(predictions, y_test)))"
   ]
  },
  {
   "cell_type": "code",
   "execution_count": 26,
   "metadata": {
    "execution": {
     "iopub.execute_input": "2021-08-31T13:35:50.308470Z",
     "iopub.status.busy": "2021-08-31T13:35:50.307904Z",
     "iopub.status.idle": "2021-08-31T13:35:50.315262Z",
     "shell.execute_reply": "2021-08-31T13:35:50.313934Z",
     "shell.execute_reply.started": "2021-08-31T13:35:50.308423Z"
    }
   },
   "outputs": [
    {
     "data": {
      "text/plain": [
       "'so big error'"
      ]
     },
     "execution_count": 26,
     "metadata": {},
     "output_type": "execute_result"
    }
   ],
   "source": [
    "\"so big error\""
   ]
  },
  {
   "cell_type": "code",
   "execution_count": null,
   "metadata": {},
   "outputs": [],
   "source": [
    "\"\""
   ]
  },
  {
   "cell_type": "code",
   "execution_count": null,
   "metadata": {
    "execution": {
     "iopub.execute_input": "2021-08-30T12:24:56.989026Z",
     "iopub.status.busy": "2021-08-30T12:24:56.988625Z",
     "iopub.status.idle": "2021-08-30T12:24:56.995656Z",
     "shell.execute_reply": "2021-08-30T12:24:56.994986Z",
     "shell.execute_reply.started": "2021-08-30T12:24:56.988976Z"
    }
   },
   "outputs": [],
   "source": [
    "\" now cont 2,5,4 is with us\"\n",
    "\" 6,11,13 maybe\"\n",
    "\" 0,1,8 is out\""
   ]
  },
  {
   "cell_type": "code",
   "execution_count": 45,
   "metadata": {
    "execution": {
     "iopub.execute_input": "2021-08-31T14:04:07.906819Z",
     "iopub.status.busy": "2021-08-31T14:04:07.906480Z",
     "iopub.status.idle": "2021-08-31T14:04:17.644476Z",
     "shell.execute_reply": "2021-08-31T14:04:17.643271Z",
     "shell.execute_reply.started": "2021-08-31T14:04:07.906791Z"
    }
   },
   "outputs": [
    {
     "data": {
      "text/plain": [
       "{'cat5': 0.5902544915236159,\n",
       " 'cat7': 0.5902343395078323,\n",
       " 'cat6': 0.5902023322291192,\n",
       " 'cat0': 0.5901767771020702,\n",
       " 'cat2': 0.5901700642109938,\n",
       " 'cat4': 0.5901231114125186,\n",
       " 'cat3': 0.5900278577305147,\n",
       " 'cat9': 0.5900273639784919,\n",
       " 'cat1': 0.5897389011894034,\n",
       " 'cat8': 0.5893448060438142}"
      ]
     },
     "execution_count": 45,
     "metadata": {},
     "output_type": "execute_result"
    }
   ],
   "source": [
    "cat =[ 'cat0', 'cat1', 'cat2', 'cat3', 'cat4', 'cat5', 'cat6', 'cat7',\n",
    "       'cat8', 'cat9']\n",
    "dic={}\n",
    "for i in cat:\n",
    "    X_train, X_test, y_train, y_test  =train_test_split(train_data[[i]],train_data['target'], test_size=0.33,random_state=42)   \n",
    "    my_model = XGBRegressor()\n",
    "    my_model.fit(X_train, y_train)\n",
    "    pred1 = my_model.predict(X_test)\n",
    "    dic[i]=mean_absolute_error(pred1, y_test)\n",
    "\n",
    "dic2=dict(sorted(dic.items(),key= lambda x:x[1],reverse=True))    \n",
    "dic2"
   ]
  },
  {
   "cell_type": "code",
   "execution_count": null,
   "metadata": {},
   "outputs": [],
   "source": [
    "f=['cat1','cat3','cat5','cat8','cont0','cont2','cont3','cont4','cont5','cont7','cont8','cont9','cont10','cont11','cont12','cont13']"
   ]
  },
  {
   "cell_type": "code",
   "execution_count": 30,
   "metadata": {
    "execution": {
     "iopub.execute_input": "2021-08-31T13:39:07.088395Z",
     "iopub.status.busy": "2021-08-31T13:39:07.088000Z",
     "iopub.status.idle": "2021-08-31T13:39:07.093971Z",
     "shell.execute_reply": "2021-08-31T13:39:07.093128Z",
     "shell.execute_reply.started": "2021-08-31T13:39:07.088362Z"
    }
   },
   "outputs": [
    {
     "data": {
      "text/plain": [
       "'0 1 5 8 9'"
      ]
     },
     "execution_count": 30,
     "metadata": {},
     "output_type": "execute_result"
    }
   ],
   "source": [
    "\"0 1 5 8 9\""
   ]
  },
  {
   "cell_type": "code",
   "execution_count": 47,
   "metadata": {
    "execution": {
     "iopub.execute_input": "2021-08-31T14:05:49.555574Z",
     "iopub.status.busy": "2021-08-31T14:05:49.554958Z",
     "iopub.status.idle": "2021-08-31T14:07:49.636393Z",
     "shell.execute_reply": "2021-08-31T14:07:49.635365Z",
     "shell.execute_reply.started": "2021-08-31T14:05:49.555528Z"
    }
   },
   "outputs": [
    {
     "data": {
      "text/plain": [
       "{'cont1': 0.5912467078998118,\n",
       " 'cont8': 0.5912432073079285,\n",
       " 'cont5': 0.5909132336794819,\n",
       " 'cont0': 0.5908138445643264,\n",
       " 'cont11': 0.5907788361434017,\n",
       " 'cont3': 0.5907595416517843,\n",
       " 'cont6': 0.5905582801619927,\n",
       " 'cont7': 0.5904822467786237,\n",
       " 'cont13': 0.5903898419339003,\n",
       " 'cont4': 0.5895858354585278,\n",
       " 'cont2': 0.5892343186349357,\n",
       " 'cont9': 0.5881699529968398,\n",
       " 'cont12': 0.5876512526197081,\n",
       " 'cont10': 0.5871477679853608}"
      ]
     },
     "execution_count": 47,
     "metadata": {},
     "output_type": "execute_result"
    }
   ],
   "source": [
    "cont = ['cont0', 'cont1', 'cont2', 'cont3', 'cont4' ,'cont5','cont6', 'cont7', 'cont8', 'cont9', 'cont10', 'cont11', 'cont12','cont13']\n",
    "dic={}\n",
    "for  i in cont:\n",
    "    X_train, X_test, y_train, y_test  =train_test_split(train_data[[i]],train_data['target'], test_size=0.33,random_state=42)\n",
    "    my_model = XGBRegressor()\n",
    "    my_model.fit(X_train, y_train)\n",
    "    pred = my_model.predict(X_test)\n",
    "    dic[i]=mean_absolute_error(pred, y_test)\n",
    "    \n",
    "dic2=dict(sorted(dic.items(),key= lambda x:x[1],reverse=True))    \n",
    "dic2"
   ]
  },
  {
   "cell_type": "code",
   "execution_count": 21,
   "metadata": {
    "execution": {
     "iopub.execute_input": "2021-08-31T16:39:57.306594Z",
     "iopub.status.busy": "2021-08-31T16:39:57.306248Z",
     "iopub.status.idle": "2021-08-31T16:40:29.814676Z",
     "shell.execute_reply": "2021-08-31T16:40:29.813800Z",
     "shell.execute_reply.started": "2021-08-31T16:39:57.306567Z"
    }
   },
   "outputs": [
    {
     "name": "stdout",
     "output_type": "stream",
     "text": [
      "Mean Absolute Error: 0.5757067187118152\n"
     ]
    }
   ],
   "source": [
    "\n",
    "#f=['cat1','cat3','cat5','cat8','cont0','cont2','cont3','cont5','cont7','cont9','cont10','cont11','cont12','cont13'] 57602\n",
    "\n",
    "#f=['cat1','cat3','cat5','cat8','cat9','cont0','cont2','cont3','cont5','cont7','cont8','cont9','cont10','cont11','cont12','cont13']57554\n",
    "#575706\n",
    "f=['cat1','cat3','cat5','cat8','cat9','cont0','cont2','cont3','cont5','cont7','cont9','cont10','cont11','cont12','cont13']\n",
    "#f=['cat0','cat3','cat5','cat8','cat9','cont0','cont2','cont3','cont5','cont7','cont9','cont10','cont11','cont12','cont13']5767273\n",
    "#f=['cat0','cat1','cat3','cat5','cat8','cat9','cont0','cont2','cont3','cont5','cont7','cont9','cont10','cont11','cont12','cont13']575980\n",
    "#f=['cat0','cat1','cat3','cat8','cat9','cont0','cont2','cont3','cont5','cont7','cont9','cont10','cont11','cont12','cont13']576114\n",
    "#f=['cat0','cat1','cat3','cat8','cat9','cont0','cont2','cont3','cont5','cont7','cont8','cont9','cont10','cont11','cont12','cont13']5759\n",
    "#f=['cat0','cat1','cat3','cat5','cat8','cat9','cont0','cont2','cont3','cont5','cont7','cont9','cont10','cont11','cont12','cont13']57598\n",
    "\n",
    "X_train, X_test, y_train, y_test  =train_test_split(train_data[f],train_data['target'], test_size=0.33,random_state=42)\n",
    "my_model = XGBRegressor()\n",
    "my_model.fit(X_train, y_train)\n",
    "pred = my_model.predict(X_test)\n",
    "print(\"Mean Absolute Error: \" + str(mean_absolute_error(pred, y_test)))  "
   ]
  },
  {
   "cell_type": "code",
   "execution_count": 22,
   "metadata": {
    "execution": {
     "iopub.execute_input": "2021-08-31T16:40:45.740246Z",
     "iopub.status.busy": "2021-08-31T16:40:45.739684Z",
     "iopub.status.idle": "2021-08-31T16:40:45.747318Z",
     "shell.execute_reply": "2021-08-31T16:40:45.746169Z",
     "shell.execute_reply.started": "2021-08-31T16:40:45.740208Z"
    }
   },
   "outputs": [
    {
     "data": {
      "text/plain": [
       "'f=[\\'cat1\\',\\'cat3\\',\\'cat5\\',\\'cat7\\',\\'cat8\\',\\'cont0\\',\\'cont2\\',\\'cont3\\',\\'cont4\\',\\'cont5\\',\\'cont7\\',\\'cont8\\',\\'cont9\\',\\'cont10\\',\\'cont11\\',\\'cont12\\',\\'cont13\\']\\nX_train, X_test, y_train, y_test  =train_test_split(train_data[f],train_data[\\'target\\'], test_size=0.33,random_state=42)\\nmy_model = XGBRegressor()\\nmy_model.fit(X_train, y_train)\\npred = my_model.predict(X_test)\\nprint(\"Mean Absolute Error: \" + str(mean_absolute_error(pred, y_test)))  '"
      ]
     },
     "execution_count": 22,
     "metadata": {},
     "output_type": "execute_result"
    }
   ],
   "source": [
    "\n",
    "\"\"\"f=['cat1','cat3','cat5','cat7','cat8','cont0','cont2','cont3','cont4','cont5','cont7','cont8','cont9','cont10','cont11','cont12','cont13']\n",
    "X_train, X_test, y_train, y_test  =train_test_split(train_data[f],train_data['target'], test_size=0.33,random_state=42)\n",
    "my_model = XGBRegressor()\n",
    "my_model.fit(X_train, y_train)\n",
    "pred = my_model.predict(X_test)\n",
    "print(\"Mean Absolute Error: \" + str(mean_absolute_error(pred, y_test)))  \"\"\""
   ]
  },
  {
   "cell_type": "code",
   "execution_count": 23,
   "metadata": {
    "execution": {
     "iopub.execute_input": "2021-08-31T16:41:11.438859Z",
     "iopub.status.busy": "2021-08-31T16:41:11.438232Z",
     "iopub.status.idle": "2021-08-31T16:41:11.445447Z",
     "shell.execute_reply": "2021-08-31T16:41:11.444535Z",
     "shell.execute_reply.started": "2021-08-31T16:41:11.438819Z"
    }
   },
   "outputs": [
    {
     "data": {
      "text/plain": [
       "'from sklearn.metrics import mean_absolute_error\\n\\n\"with 4 -> 0.5783926404746528 \"\\n\"without-> 0.5763149384695787 \"\\n\"alldata-> 0.5762427935635132\"\\n\\npred = my_model.predict(X_test)\\nprint(\"Mean Absolute Error: \" + str(mean_absolute_error(pred, y_test)))'"
      ]
     },
     "execution_count": 23,
     "metadata": {},
     "output_type": "execute_result"
    }
   ],
   "source": [
    "\"\"\"from sklearn.metrics import mean_absolute_error\n",
    "\n",
    "\"with 4 -> 0.5783926404746528 \"\n",
    "\"without-> 0.5763149384695787 \"\n",
    "\"alldata-> 0.5762427935635132\"\n",
    "\n",
    "pred = my_model.predict(X_test)\n",
    "print(\"Mean Absolute Error: \" + str(mean_absolute_error(pred, y_test)))\"\"\""
   ]
  },
  {
   "cell_type": "code",
   "execution_count": 24,
   "metadata": {
    "execution": {
     "iopub.execute_input": "2021-08-31T16:41:19.598294Z",
     "iopub.status.busy": "2021-08-31T16:41:19.597906Z",
     "iopub.status.idle": "2021-08-31T16:41:20.297181Z",
     "shell.execute_reply": "2021-08-31T16:41:20.296247Z",
     "shell.execute_reply.started": "2021-08-31T16:41:19.598261Z"
    }
   },
   "outputs": [],
   "source": [
    "from sklearn.preprocessing import LabelEncoder\n",
    "\n",
    "# Instantiate LabelEncoder\n",
    "lebl = LabelEncoder()\n",
    "\n",
    "# Iterate over all the values of each column and extract their dtypes\n",
    "for col in test_data.columns.to_numpy():\n",
    "    # Compare if the dtype is object\n",
    "    if test_data[col].dtype=='object':\n",
    "    # Use LabelEncoder to do the numeric transformation\n",
    "        test_data[col]=lebl.fit_transform(test_data[col])"
   ]
  },
  {
   "cell_type": "code",
   "execution_count": 25,
   "metadata": {
    "execution": {
     "iopub.execute_input": "2021-08-31T16:42:13.387535Z",
     "iopub.status.busy": "2021-08-31T16:42:13.387124Z",
     "iopub.status.idle": "2021-08-31T16:42:13.395266Z",
     "shell.execute_reply": "2021-08-31T16:42:13.394196Z",
     "shell.execute_reply.started": "2021-08-31T16:42:13.387503Z"
    }
   },
   "outputs": [
    {
     "data": {
      "text/plain": [
       "0.7587533978255486"
      ]
     },
     "execution_count": 25,
     "metadata": {},
     "output_type": "execute_result"
    }
   ],
   "source": [
    "\"RMSE\"\n",
    "mean_absolute_error(pred, y_test)**0.5"
   ]
  },
  {
   "cell_type": "code",
   "execution_count": 26,
   "metadata": {
    "execution": {
     "iopub.execute_input": "2021-08-31T16:42:43.037434Z",
     "iopub.status.busy": "2021-08-31T16:42:43.037079Z",
     "iopub.status.idle": "2021-08-31T16:42:43.894012Z",
     "shell.execute_reply": "2021-08-31T16:42:43.892999Z",
     "shell.execute_reply.started": "2021-08-31T16:42:43.037405Z"
    }
   },
   "outputs": [
    {
     "data": {
      "text/html": [
       "<div>\n",
       "<style scoped>\n",
       "    .dataframe tbody tr th:only-of-type {\n",
       "        vertical-align: middle;\n",
       "    }\n",
       "\n",
       "    .dataframe tbody tr th {\n",
       "        vertical-align: top;\n",
       "    }\n",
       "\n",
       "    .dataframe thead th {\n",
       "        text-align: right;\n",
       "    }\n",
       "</style>\n",
       "<table border=\"1\" class=\"dataframe\">\n",
       "  <thead>\n",
       "    <tr style=\"text-align: right;\">\n",
       "      <th></th>\n",
       "      <th>id</th>\n",
       "      <th>target</th>\n",
       "    </tr>\n",
       "  </thead>\n",
       "  <tbody>\n",
       "    <tr>\n",
       "      <th>0</th>\n",
       "      <td>0</td>\n",
       "      <td>8.058604</td>\n",
       "    </tr>\n",
       "    <tr>\n",
       "      <th>1</th>\n",
       "      <td>5</td>\n",
       "      <td>8.398495</td>\n",
       "    </tr>\n",
       "    <tr>\n",
       "      <th>2</th>\n",
       "      <td>15</td>\n",
       "      <td>8.379127</td>\n",
       "    </tr>\n",
       "    <tr>\n",
       "      <th>3</th>\n",
       "      <td>16</td>\n",
       "      <td>8.381173</td>\n",
       "    </tr>\n",
       "    <tr>\n",
       "      <th>4</th>\n",
       "      <td>17</td>\n",
       "      <td>8.107049</td>\n",
       "    </tr>\n",
       "  </tbody>\n",
       "</table>\n",
       "</div>"
      ],
      "text/plain": [
       "   id    target\n",
       "0   0  8.058604\n",
       "1   5  8.398495\n",
       "2  15  8.379127\n",
       "3  16  8.381173\n",
       "4  17  8.107049"
      ]
     },
     "execution_count": 26,
     "metadata": {},
     "output_type": "execute_result"
    }
   ],
   "source": [
    "f=['cat1','cat3','cat5','cat8','cat9','cont0','cont2','cont3','cont5','cont7','cont9','cont10','cont11','cont12','cont13']\n",
    "\n",
    "preds=my_model.predict(test_data[f])\n",
    "predi = pd.DataFrame()\n",
    "predi[\"id\"] = test_data[\"id\"]\n",
    "predi[\"target\"] = preds\n",
    "\n",
    "predi.to_csv('submission.csv', index=False, header=predi.columns)\n",
    "predi.head()"
   ]
  },
  {
   "cell_type": "code",
   "execution_count": null,
   "metadata": {},
   "outputs": [],
   "source": []
  }
 ],
 "metadata": {
  "kernelspec": {
   "display_name": "Python 3",
   "language": "python",
   "name": "python3"
  },
  "language_info": {
   "codemirror_mode": {
    "name": "ipython",
    "version": 3
   },
   "file_extension": ".py",
   "mimetype": "text/x-python",
   "name": "python",
   "nbconvert_exporter": "python",
   "pygments_lexer": "ipython3",
   "version": "3.8.8"
  }
 },
 "nbformat": 4,
 "nbformat_minor": 4
}
